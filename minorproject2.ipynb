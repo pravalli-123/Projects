{
 "cells": [
  {
   "cell_type": "code",
   "execution_count": 11,
   "metadata": {},
   "outputs": [],
   "source": [
    "import pandas as pd\n",
    "import numpy as np\n",
    "from matplotlib import pyplot as plt\n",
    "%matplotlib inline"
   ]
  },
  {
   "cell_type": "code",
   "execution_count": 12,
   "metadata": {},
   "outputs": [
    {
     "data": {
      "text/html": [
       "<div>\n",
       "<style scoped>\n",
       "    .dataframe tbody tr th:only-of-type {\n",
       "        vertical-align: middle;\n",
       "    }\n",
       "\n",
       "    .dataframe tbody tr th {\n",
       "        vertical-align: top;\n",
       "    }\n",
       "\n",
       "    .dataframe thead th {\n",
       "        text-align: right;\n",
       "    }\n",
       "</style>\n",
       "<table border=\"1\" class=\"dataframe\">\n",
       "  <thead>\n",
       "    <tr style=\"text-align: right;\">\n",
       "      <th></th>\n",
       "      <th>sqft_living</th>\n",
       "      <th>bedrooms</th>\n",
       "      <th>Price</th>\n",
       "      <th>location</th>\n",
       "    </tr>\n",
       "  </thead>\n",
       "  <tbody>\n",
       "    <tr>\n",
       "      <th>0</th>\n",
       "      <td>1056</td>\n",
       "      <td>2</td>\n",
       "      <td>39.07</td>\n",
       "      <td>4.8</td>\n",
       "    </tr>\n",
       "    <tr>\n",
       "      <th>1</th>\n",
       "      <td>2600</td>\n",
       "      <td>4</td>\n",
       "      <td>127.00</td>\n",
       "      <td>7.0</td>\n",
       "    </tr>\n",
       "    <tr>\n",
       "      <th>2</th>\n",
       "      <td>1440</td>\n",
       "      <td>3</td>\n",
       "      <td>62.00</td>\n",
       "      <td>4.6</td>\n",
       "    </tr>\n",
       "    <tr>\n",
       "      <th>3</th>\n",
       "      <td>1521</td>\n",
       "      <td>3</td>\n",
       "      <td>75.00</td>\n",
       "      <td>5.7</td>\n",
       "    </tr>\n",
       "    <tr>\n",
       "      <th>4</th>\n",
       "      <td>1200</td>\n",
       "      <td>2</td>\n",
       "      <td>51.00</td>\n",
       "      <td>5.0</td>\n",
       "    </tr>\n",
       "  </tbody>\n",
       "</table>\n",
       "</div>"
      ],
      "text/plain": [
       "   sqft_living  bedrooms   Price  location\n",
       "0         1056         2   39.07       4.8\n",
       "1         2600         4  127.00       7.0\n",
       "2         1440         3   62.00       4.6\n",
       "3         1521         3   75.00       5.7\n",
       "4         1200         2   51.00       5.0"
      ]
     },
     "execution_count": 12,
     "metadata": {},
     "output_type": "execute_result"
    }
   ],
   "source": [
    "df = pd.read_csv(\"house_price_prediction.csv\")\n",
    "df.head()"
   ]
  },
  {
   "cell_type": "code",
   "execution_count": 13,
   "metadata": {},
   "outputs": [
    {
     "name": "stdout",
     "output_type": "stream",
     "text": [
      "{1.1: 'sirisilla', 1.2: 'medak', 1.3: 'parkal', 1.4: 'kantathmakur', 1.5: 'siddipet', 1.6: 'nangnoor', 1.7: 'chinnakodur', 1.8: 'thoguta', 1.9: 'doultabad', 2: 'cherial', 2.1: 'komuravelli', 2.2: 'husnabad', 2.3: 'akkannapet', 2.4: 'koheda', 2.5: 'suryapet', 2.6: 'atmakur', 2.7: 'nagaram', 2.8: 'palakeedu', 2.9: 'chilkur', 3: 'huzurnagar', 3.1: 'kodad', 3.2: 'nadigudem', 3.3: 'ananthagiri', 3.4: 'mallareddygudem', 3.5: 'munagala', 3.6: 'kodangal', 3.7: 'vikarabad', 3.8: 'kulkacherla', 3.9: 'marpelle', 4: 'wanaparthy', 4.1: 'amarchinta', 4.2: 'kothakota', 4.3: 'revally', 4.4: 'srirangapur', 4.5: 'jinnaram', 4.6: 'sangareddy', 4.7: 'narsampet', 4.8: 'khanapur', 4.9: 'nekkonda', 5: 'warangal', 5.1: 'dharmasagar', 5.2: 'elakathurthy', 5.3: 'hasanparthy', 5.4: 'kamalapur', 5.5: 'kazipet', 5.6: 'khilawarangal', 5.7: 'hanamkonda', 5.8: 'bhongir', 5.9: 'bibinagar', 6: 'mothkur', 6.1: 'rajapet', 6.2: 'yadagirigutta', 6.3: 'mancherial', 6.4: 'ghatkesar', 6.5: 'uppal', 6.6: 'keesara', 6.7: 'medchal', 6.8: 'medipally', 6.9: 'shamirpet', 7: 'chennur', 7.1: 'jaipur', 7.2: 'jannaram', 7.3: 'dandepally', 7.4: 'bellampally', 7.5: 'vempally', 7.6: 'choutuppal', 7.7: 'pochampally', 7.8: 'narayanpur', 7.9: 'ramannapet', 8: 'valigonda', 8.1: 'adilabad', 8.2: 'bela', 8.3: 'jainath', 8.4: 'mavala', 8.5: 'bhadrachalam', 8.6: 'cherla', 8.7: 'aswapuram', 8.8: 'manuguru', 8.9: 'karakagudem', 9: 'hyderabad', 9.1: 'amberpet', 9.2: 'asifnagar', 9.3: 'bahadurpara', 9.4: 'golkonda', 9.5: 'saidabad', 9.6: 'nampally', 9.7: 'charminar', 9.8: 'bandlaguda', 9.9: 'bahadurpara', 10: 'secundrabad', 10.1: 'khairatabad', 10.2: 'marredpally', 10.3: 'musheerabad', 10.4: 'shaikpet', 10.5: 'trimulgherry', 10.6: 'karimnagar', 10.7: 'hitechcity', 10.8: 'meyapur', 10.9: 'nallagandla', 11: 'kothur', 11.1: 'khammam', 11.2: 'nizamabad', 11.3: 'huzurabad', 11.4: 'vizag', 11.5: 'jagityal', 11.6: 'dharmapuri', 11.7: 'raikal', 11.8: 'sarangapur', 11.9: 'beerpur', 12: 'buggaram', 12.1: 'gollapalli', 12.2: 'mallial', 12.3: 'kodimial', 12.4: 'velgatur', 12.5: 'metpalli', 12.6: 'jangaon', 12.7: 'gundala', 12.8: 'narmetta', 12.9: 'tarigoppula', 13: 'bheeramguda'}\n"
     ]
    }
   ],
   "source": [
    "dic={1.1:\"sirisilla\",1.2:\"medak\",1.3:\"parkal\",1.4:\"kantathmakur\",1.5:\"siddipet\",1.6:\"nangnoor\",1.7:\"chinnakodur\",1.8:\"thoguta\",1.9:\"doultabad\",2:\"dubbak\",2.0:\"cherial\",2.1:\"komuravelli\",2.2:\"husnabad\",2.3:\"akkannapet\",2.4:\"koheda\",2.5:\"suryapet\",\n",
    "    2.6:\"atmakur\",2.7:\"nagaram\",2.8:\"palakeedu\",2.9:\"chilkur\",3:\"huzurnagar\",3.1:\"kodad\",3.2:\"nadigudem\",3.3:\"ananthagiri\",3.4:\"mallareddygudem\",3.5:\"munagala\",3.6:\"kodangal\",3.7:\"vikarabad\",3.8:\"kulkacherla\",3.9:\"marpelle\",4:\"wanaparthy\",4.1:\"amarchinta\",4.2:\"kothakota\",4.3:\"revally\",4.4:\"srirangapur\",4.5:\"jinnaram\",4.6:\"sangareddy\",4.7:\"narsampet\",4.8:\"khanapur\",4.9:\"nekkonda\",5:\"warangal\",5.1:\"dharmasagar\",5.2:\"elakathurthy\",5.3:\"hasanparthy\",5.4:\"kamalapur\",5.5:\"kazipet\",5.6:\"khilawarangal\",5.7:\"hanamkonda\",5.8:\"bhongir\",5.9:\"bibinagar\",6:\"mothkur\",6.1:\"rajapet\",6.2:\"yadagirigutta\",\n",
    "    6.3:\"mancherial\",6.4:\"ghatkesar\",6.5:\"uppal\",6.6:\"keesara\",6.7:\"medchal\",6.8:\"medipally\",6.9:\"shamirpet\",7:\"chennur\",7.1:\"jaipur\",7.2:\"jannaram\",7.3:\"dandepally\",7.4:\"bellampally\",7.5:\"vempally\",7.6:\"choutuppal\",7.7:\"pochampally\",7.8:\"narayanpur\",7.9:\"ramannapet\",8:\"valigonda\",8.1:\"adilabad\",8.2:\"bela\",8.3:\"jainath\",8.4:\"mavala\",8.5:\"bhadrachalam\",8.6:\"cherla\",8.7:\"aswapuram\",8.8:\"manuguru\",8.9:\"karakagudem\",9:\"hyderabad\",9.1:\"amberpet\",9.2:\"asifnagar\",9.3:\"bahadurpara\",9.4:\"golkonda\",9.5:\"saidabad\",9.6:\"nampally\",9.7:\"charminar\",9.8:\"bandlaguda\",9.9:\"bahadurpara\",10:\"secundrabad\",\n",
    "    10.1:\"khairatabad\",10.2:\"marredpally\",10.3:\"musheerabad\",10.4:\"shaikpet\",10.5:\"trimulgherry\",10.6:\"karimnagar\",10.7:\"hitechcity\",10.8:\"meyapur\",10.9:\"nallagandla\",11:\"kothur\",11.1:\"khammam\",11.2:\"nizamabad\",11.3:\"huzurabad\",11.4:\"vizag\",11.5:\"jagityal\",11.6:\"dharmapuri\",11.7:\"raikal\",11.8:\"sarangapur\",11.9:\"beerpur\",12:\"buggaram\",12.1:\"gollapalli\",12.2:\"mallial\",12.3:\"kodimial\",12.4:\"velgatur\",12.5:\"metpalli\",12.6:\"jangaon\",12.7:\"gundala\",12.8:\"narmetta\",12.9:\"tarigoppula\",13:\"bheeramguda\"}\n",
    "print(dic)"
   ]
  },
  {
   "cell_type": "code",
   "execution_count": 14,
   "metadata": {},
   "outputs": [
    {
     "data": {
      "text/plain": [
       "sqft_living    0\n",
       "bedrooms       0\n",
       "Price          0\n",
       "location       0\n",
       "dtype: int64"
      ]
     },
     "execution_count": 14,
     "metadata": {},
     "output_type": "execute_result"
    }
   ],
   "source": [
    "df.isnull().sum()"
   ]
  },
  {
   "cell_type": "code",
   "execution_count": 15,
   "metadata": {},
   "outputs": [],
   "source": [
    "from scipy import stats\n",
    "z=np.abs(stats.zscore(df))"
   ]
  },
  {
   "cell_type": "code",
   "execution_count": 16,
   "metadata": {},
   "outputs": [],
   "source": [
    "f_data=df[(z<4).all(axis=1)]"
   ]
  },
  {
   "cell_type": "code",
   "execution_count": 17,
   "metadata": {},
   "outputs": [
    {
     "name": "stdout",
     "output_type": "stream",
     "text": [
      "24\n",
      "24\n",
      "No outliers\n"
     ]
    }
   ],
   "source": [
    "print(len(df))\n",
    "print(len(f_data))\n",
    "if(len(df)==len(f_data)):\n",
    "    print('No outliers')"
   ]
  },
  {
   "cell_type": "code",
   "execution_count": 18,
   "metadata": {},
   "outputs": [
    {
     "data": {
      "text/plain": [
       "array([[0.1024    , 0.        , 0.2991453 ],\n",
       "       [0.72      , 0.66666667, 0.48717949],\n",
       "       [0.256     , 0.33333333, 0.28205128],\n",
       "       [0.2884    , 0.33333333, 0.37606838],\n",
       "       [0.16      , 0.        , 0.31623932],\n",
       "       [0.148     , 0.        , 0.27350427],\n",
       "       [0.7728    , 0.66666667, 0.48717949],\n",
       "       [1.        , 0.66666667, 0.57264957],\n",
       "       [0.204     , 0.33333333, 0.23076923],\n",
       "       [0.36      , 1.        , 0.57264957],\n",
       "       [0.4       , 0.33333333, 0.4017094 ],\n",
       "       [0.794     , 0.66666667, 0.57264957],\n",
       "       [0.08      , 0.        , 0.23076923],\n",
       "       [0.12      , 0.        , 0.28205128],\n",
       "       [0.58      , 0.33333333, 0.47008547],\n",
       "       [0.15      , 0.        , 0.30769231],\n",
       "       [0.152     , 0.33333333, 0.31623932],\n",
       "       [0.296     , 0.33333333, 0.33333333],\n",
       "       [0.788     , 0.33333333, 0.48717949],\n",
       "       [0.        , 0.        , 0.23076923],\n",
       "       [0.68      , 0.33333333, 0.31623932],\n",
       "       [0.34      , 1.        , 1.        ],\n",
       "       [0.188     , 0.33333333, 0.14529915],\n",
       "       [0.14      , 0.33333333, 0.        ]])"
      ]
     },
     "execution_count": 18,
     "metadata": {},
     "output_type": "execute_result"
    }
   ],
   "source": [
    "from sklearn import preprocessing\n",
    "\n",
    "sx=preprocessing.MinMaxScaler()\n",
    "sy=preprocessing.MinMaxScaler()\n",
    "\n",
    "scaled_x=sx.fit_transform(df.drop('Price',axis='columns'))\n",
    "scaled_x"
   ]
  },
  {
   "cell_type": "code",
   "execution_count": 19,
   "metadata": {},
   "outputs": [
    {
     "data": {
      "text/plain": [
       "array([[0.12055949],\n",
       "       [0.41691945],\n",
       "       [0.19784294],\n",
       "       [0.24165824],\n",
       "       [0.16076845],\n",
       "       [0.11695315],\n",
       "       [0.44388271],\n",
       "       [0.51129087],\n",
       "       [0.15739805],\n",
       "       [0.55173576],\n",
       "       [0.2652511 ],\n",
       "       [0.46073475],\n",
       "       [0.11695315],\n",
       "       [0.12369397],\n",
       "       [0.32928884],\n",
       "       [0.13043478],\n",
       "       [0.15065723],\n",
       "       [0.2248062 ],\n",
       "       [0.33265925],\n",
       "       [0.0967307 ],\n",
       "       [0.15739805],\n",
       "       [1.        ],\n",
       "       [0.11189754],\n",
       "       [0.        ]])"
      ]
     },
     "execution_count": 19,
     "metadata": {},
     "output_type": "execute_result"
    }
   ],
   "source": [
    "scaled_y=sy.fit_transform(df['Price'].values.reshape(df.shape[0],1))\n",
    "scaled_y"
   ]
  },
  {
   "cell_type": "code",
   "execution_count": 20,
   "metadata": {},
   "outputs": [
    {
     "data": {
      "text/plain": [
       "array([1., 1.])"
      ]
     },
     "execution_count": 20,
     "metadata": {},
     "output_type": "execute_result"
    }
   ],
   "source": [
    "np.ones(shape=(2))"
   ]
  },
  {
   "cell_type": "code",
   "execution_count": 21,
   "metadata": {},
   "outputs": [
    {
     "name": "stdout",
     "output_type": "stream",
     "text": [
      "w1,w2,w3 values are [-0.05474052  0.26136009  0.79929494]\n",
      "bias is: -0.10271681120359705\n",
      "mean squre error value is: 0.0008713739141017316\n"
     ]
    }
   ],
   "source": [
    "def batch_gradient(X,y_true, epochs ,learning_rate=0.01):\n",
    "    \n",
    "    number_of_features=X.shape[1]\n",
    "    w=np.ones(shape=(number_of_features)) #w1 and #w2\n",
    "    b = 0\n",
    "    total_samples = X.shape[0]\n",
    "    \n",
    "    cost_list=[]\n",
    "    epoch_list=[]\n",
    "    \n",
    "    for i in range(epochs):\n",
    "        \n",
    "        y_predicted = np.dot(w,scaled_x.T)+b #w1*sqft_living+w2*bedrooms+bias\n",
    "        \n",
    "        w_grad = -(3/total_samples)*(X.T.dot(y_true-y_predicted)) \n",
    "        b_grad = -(3/total_samples)*np.sum(y_true-y_predicted)\n",
    "        \n",
    "        w=w-learning_rate * w_grad\n",
    "        b=b-learning_rate * b_grad\n",
    "        cost = np.mean(np.square(y_true-y_predicted)) #mean square error\n",
    "        if i % 10==0:\n",
    "            cost_list.append(cost)\n",
    "            epoch_list.append(i)\n",
    "    \n",
    "    return w ,b,cost, cost_list ,epoch_list \n",
    "            \n",
    "w ,b, cost,cost_list ,epoch_list = batch_gradient(scaled_x,scaled_y.reshape(scaled_y.shape[0],),4000)  \n",
    "print(\"w1,w2,w3 values are\",w)\n",
    "print(\"bias is:\",b)\n",
    "print(\"mean squre error value is:\",cost)"
   ]
  },
  {
   "cell_type": "code",
   "execution_count": 22,
   "metadata": {},
   "outputs": [
    {
     "data": {
      "text/plain": [
       "[<matplotlib.lines.Line2D at 0x1fae3b910c8>]"
      ]
     },
     "execution_count": 22,
     "metadata": {},
     "output_type": "execute_result"
    },
    {
     "data": {
      "image/png": "[encoded data removed]",
      "text/plain": [
       "<Figure size 432x288 with 1 Axes>"
      ]
     },
     "metadata": {
      "needs_background": "light"
     },
     "output_type": "display_data"
    }
   ],
   "source": [
    "plt.xlabel(\"epoch\")\n",
    "plt.ylabel(\"cost\")\n",
    "plt.plot(epoch_list,cost_list)"
   ]
  },
  {
   "cell_type": "code",
   "execution_count": 23,
   "metadata": {},
   "outputs": [
    {
     "data": {
      "text/plain": [
       "array([[0.08      , 0.        , 0.14529915]])"
      ]
     },
     "execution_count": 23,
     "metadata": {},
     "output_type": "execute_result"
    }
   ],
   "source": [
    "sx.transform([[1000,2,3]])"
   ]
  },
  {
   "cell_type": "code",
   "execution_count": 24,
   "metadata": {},
   "outputs": [
    {
     "data": {
      "text/plain": [
       "array([-0.05474052,  0.26136009,  0.79929494])"
      ]
     },
     "execution_count": 24,
     "metadata": {},
     "output_type": "execute_result"
    }
   ],
   "source": [
    "w"
   ]
  },
  {
   "cell_type": "code",
   "execution_count": 25,
   "metadata": {},
   "outputs": [
    {
     "data": {
      "text/plain": [
       "array([[300.  , 151.65,   3.3 ]])"
      ]
     },
     "execution_count": 25,
     "metadata": {},
     "output_type": "execute_result"
    }
   ],
   "source": [
    "sy.inverse_transform([[1,0.5,0]])"
   ]
  },
  {
   "cell_type": "code",
   "execution_count": 26,
   "metadata": {},
   "outputs": [],
   "source": [
    "def predict(sqft_living,bedrooms,location,w,b):\n",
    "    scaled_x=sx.transform([[sqft_living,bedrooms,location]])[0]\n",
    "    \n",
    "    scaled_price = w[0]*scaled_x[0] + w[1]*scaled_x[1] + w[2]*scaled_x[2] + b\n",
    "    return sy.inverse_transform([[scaled_price]])[0][0]"
   ]
  },
  {
   "cell_type": "code",
   "execution_count": 27,
   "metadata": {},
   "outputs": [
    {
     "name": "stdout",
     "output_type": "stream",
     "text": [
      "enter location number:4\n",
      "house price of location wanaparthy is 50.08627580286866 lakhs\n"
     ]
    }
   ],
   "source": [
    "l=float(input(\"enter location number:\"))\n",
    "a=predict(1310,3,4,w,b)\n",
    "print(\"house price of location\",dic[l],\"is\",a,\"lakhs\")"
   ]
  },
  {
   "cell_type": "code",
   "execution_count": 28,
   "metadata": {},
   "outputs": [
    {
     "name": "stdout",
     "output_type": "stream",
     "text": [
      "enter location number:7\n",
      "house price of location chennur is 128.36206722823545 lakhs\n"
     ]
    }
   ],
   "source": [
    "l=float(input(\"enter location number:\"))\n",
    "a=predict(2600,4,7,w,b)\n",
    "print(\"house price of location\",dic[l],\"is\",a,\"lakhs\")"
   ]
  },
  {
   "cell_type": "code",
   "execution_count": 29,
   "metadata": {},
   "outputs": [
    {
     "name": "stdout",
     "output_type": "stream",
     "text": [
      "enter location number:4\n",
      "house price of location wanaparthy is 27.551031958652445 lakhs\n"
     ]
    }
   ],
   "source": [
    "l=float(input(\"enter location number:\"))\n",
    "a=predict(800,2,4,w,b)\n",
    "print(\"house price of location\",dic[l],\"is\",a,\"lakhs\")"
   ]
  },
  {
   "cell_type": "code",
   "execution_count": 30,
   "metadata": {},
   "outputs": [
    {
     "name": "stdout",
     "output_type": "stream",
     "text": [
      "enter location number:8\n",
      "house price of location valigonda is 144.08374336115656 lakhs\n"
     ]
    }
   ],
   "source": [
    "l=float(input(\"enter location number:\"))\n",
    "a=predict(3300,4,8,w,b)\n",
    "print(\"house price of location\",dic[l],\"is\",a,\"lakhs\")"
   ]
  },
  {
   "cell_type": "code",
   "execution_count": 31,
   "metadata": {},
   "outputs": [
    {
     "name": "stdout",
     "output_type": "stream",
     "text": [
      "enter location number:6.8\n",
      "house price of location medipally is 100.73350652507429 lakhs\n"
     ]
    }
   ],
   "source": [
    "l=float(input(\"enter location number:\"))\n",
    "t=predict(2250,3,l,w,b)\n",
    "print(\"house price of location\",dic[l],\"is\",t,\"lakhs\")"
   ]
  },
  {
   "cell_type": "code",
   "execution_count": 36,
   "metadata": {},
   "outputs": [
    {
     "name": "stdout",
     "output_type": "stream",
     "text": [
      "enter location number:13\n",
      "house price of location bheeramguda is 249.97786687881256 lakhs\n"
     ]
    }
   ],
   "source": [
    "l=float(input(\"enter location number:\"))\n",
    "t=predict(2600,4,l,w,b)\n",
    "print(\"house price of location\",dic[l],\"is\",t,\"lakhs\")"
   ]
  },
  {
   "cell_type": "code",
   "execution_count": 35,
   "metadata": {},
   "outputs": [
    {
     "name": "stdout",
     "output_type": "stream",
     "text": [
      "enter location number:10\n",
      "house price of location secundrabad is 189.16996705352403 lakhs\n"
     ]
    }
   ],
   "source": [
    "l=float(input(\"enter location number:\"))\n",
    "t=predict(2600,4,l,w,b)\n",
    "print(\"house price of location\",dic[l],\"is\",t,\"lakhs\")"
   ]
  },
  {
   "cell_type": "code",
   "execution_count": 37,
   "metadata": {},
   "outputs": [
    {
     "name": "stdout",
     "output_type": "stream",
     "text": [
      "enter location number:10.7\n",
      "house price of location hitechcity is 203.35847701275802 lakhs\n"
     ]
    }
   ],
   "source": [
    "l=float(input(\"enter location number:\"))\n",
    "t=predict(2600,4,l,w,b)\n",
    "print(\"house price of location\",dic[l],\"is\",t,\"lakhs\")"
   ]
  },
  {
   "cell_type": "code",
   "execution_count": null,
   "metadata": {},
   "outputs": [],
   "source": []
  }
 ],
 "metadata": {
  "kernelspec": {
   "display_name": "Python 3",
   "language": "python",
   "name": "python3"
  },
  "language_info": {
   "codemirror_mode": {
    "name": "ipython",
    "version": 3
   },
   "file_extension": ".py",
   "mimetype": "text/x-python",
   "name": "python",
   "nbconvert_exporter": "python",
   "pygments_lexer": "ipython3",
   "version": "3.7.6"
  }
 },
 "nbformat": 4,
 "nbformat_minor": 4
}
